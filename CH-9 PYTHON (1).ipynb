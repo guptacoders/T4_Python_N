{
 "cells": [
  {
   "cell_type": "markdown",
   "metadata": {},
   "source": [
    "# INHERITANCE"
   ]
  },
  {
   "cell_type": "code",
   "execution_count": 5,
   "metadata": {},
   "outputs": [
    {
     "name": "stdout",
     "output_type": "stream",
     "text": [
      "Hello\n",
      "Hii\n",
      "LJIET\n"
     ]
    }
   ],
   "source": [
    "class A:\n",
    "    def m1(self):\n",
    "        print(\"Hello\")\n",
    "class B(A):\n",
    "    def m2(self):\n",
    "        print(\"Hii\")\n",
    "class C(B):\n",
    "    def m3(self):\n",
    "        print(\"LJIET\")\n",
    "        \n",
    "obj = C()\n",
    "obj.m1()\n",
    "obj.m2()\n",
    "obj.m3()"
   ]
  },
  {
   "cell_type": "markdown",
   "metadata": {},
   "source": [
    "INHERITANCE SUPER FUNCTION"
   ]
  },
  {
   "cell_type": "code",
   "execution_count": 11,
   "metadata": {},
   "outputs": [
    {
     "name": "stdout",
     "output_type": "stream",
     "text": [
      "He Worked At, Google\n"
     ]
    }
   ],
   "source": [
    "class company:\n",
    "    def name(self):\n",
    "        return \"Google\"\n",
    "class Emp(company):\n",
    "    def info(self):\n",
    "        c_name=super().name()\n",
    "        print(\"He Worked At,\",c_name)\n",
    "e=Emp()\n",
    "e.info()"
   ]
  },
  {
   "cell_type": "code",
   "execution_count": 15,
   "metadata": {},
   "outputs": [
    {
     "name": "stdout",
     "output_type": "stream",
     "text": [
      "Name: ABC\n",
      "Salary: 1000\n",
      "Subject: PS\n",
      "True\n",
      "True\n",
      "True\n"
     ]
    }
   ],
   "source": [
    "class Staff:\n",
    "    def __init__(self,name,salary):\n",
    "        self.name=name\n",
    "        self.salary=salary\n",
    "    def disp(self):\n",
    "        print(\"Name:\",self.name)\n",
    "        print(\"Salary:\",self.salary)\n",
    "class Teaching(Staff):\n",
    "    def __init__(self,name,salary,sub):\n",
    "        super().__init__(name,salary)\n",
    "        self.sub=sub\n",
    "    def display(self):\n",
    "        super().disp()\n",
    "        print(\"Subject:\",self.sub)\n",
    "        \n",
    "fac=Teaching(\"ABC\",1000,\"PS\")\n",
    "fac.display()\n",
    "print(issubclass(Teaching,Staff))\n",
    "print(isinstance(fac,Staff))\n",
    "print(isinstance(fac,Teaching))"
   ]
  },
  {
   "cell_type": "code",
   "execution_count": 16,
   "metadata": {},
   "outputs": [
    {
     "name": "stdout",
     "output_type": "stream",
     "text": [
      "[<class '__main__.B'>, <class '__main__.A'>, <class 'object'>]\n"
     ]
    }
   ],
   "source": [
    "class A:\n",
    "    pass\n",
    "class B(A):\n",
    "    pass\n",
    "print(B.mro())"
   ]
  },
  {
   "cell_type": "code",
   "execution_count": 20,
   "metadata": {},
   "outputs": [
    {
     "name": "stdout",
     "output_type": "stream",
     "text": [
      "[<class '__main__.D'>, <class '__main__.B'>, <class '__main__.A'>, <class 'object'>]\n"
     ]
    }
   ],
   "source": [
    "class A:\n",
    "    pass\n",
    "class B(A):\n",
    "    pass\n",
    "class D(B):\n",
    "    pass\n",
    "class C(A):\n",
    "    pass\n",
    "class E(C):\n",
    "    pass\n",
    "class F(D,E):\n",
    "    pass\n",
    "print(F.mro())"
   ]
  },
  {
   "cell_type": "code",
   "execution_count": 27,
   "metadata": {},
   "outputs": [
    {
     "name": "stdout",
     "output_type": "stream",
     "text": [
      "[<class '__main__.E'>, <class '__main__.C'>, <class '__main__.D'>, <class '__main__.A'>, <class '__main__.F'>, <class '__main__.B'>, <class 'object'>]\n",
      "[<class '__main__.G'>, <class '__main__.B'>, <class 'object'>]\n"
     ]
    }
   ],
   "source": [
    "class A: pass\n",
    "class B: pass\n",
    "class C(A): pass\n",
    "class D(A): pass\n",
    "class F(B): pass\n",
    "class G(B): pass\n",
    "class E(C,D,F): pass\n",
    "print(E.mro())\n",
    "print(G.mro())"
   ]
  },
  {
   "cell_type": "code",
   "execution_count": 34,
   "metadata": {},
   "outputs": [
    {
     "name": "stdout",
     "output_type": "stream",
     "text": [
      "[<class '__main__.Z'>, <class '__main__.K1'>, <class '__main__.C'>, <class '__main__.K2'>, <class '__main__.K3'>, <class '__main__.A'>, <class '__main__.B'>, <class '__main__.D'>, <class '__main__.E'>, <class 'object'>]\n"
     ]
    }
   ],
   "source": [
    "class A:pass\n",
    "class B:\n",
    "    pass\n",
    "class C:\n",
    "    pass\n",
    "class D:\n",
    "    pass\n",
    "class E:\n",
    "    pass\n",
    "class K1(C,A,B):\n",
    "    pass\n",
    "class K3(A,D):\n",
    "    pass\n",
    "class K2(B,D,E):\n",
    "    pass\n",
    "class Z(K1,K2,K3): pass\n",
    "print(Z.mro())"
   ]
  },
  {
   "cell_type": "markdown",
   "metadata": {},
   "source": [
    "# POLYMORPHISM"
   ]
  },
  {
   "cell_type": "code",
   "execution_count": 35,
   "metadata": {},
   "outputs": [
    {
     "name": "stdout",
     "output_type": "stream",
     "text": [
      "3\n",
      "3\n",
      "3\n"
     ]
    }
   ],
   "source": [
    "A=\"ABC\"\n",
    "L=[1,2,3]\n",
    "T=(1,2,3)\n",
    "print(len(A))\n",
    "print(len(L))\n",
    "print(len(T))"
   ]
  },
  {
   "cell_type": "markdown",
   "metadata": {},
   "source": [
    "# METHOD OVERRIDING"
   ]
  },
  {
   "cell_type": "code",
   "execution_count": 38,
   "metadata": {},
   "outputs": [
    {
     "name": "stdout",
     "output_type": "stream",
     "text": [
      "150km/hr\n",
      "Vechile\n"
     ]
    }
   ],
   "source": [
    "class vechile:\n",
    "    def disp(self):\n",
    "        print(\"Vechile\")\n",
    "    def speed(self):\n",
    "        print(\"100km/hr\")\n",
    "class car(vechile):\n",
    "    def speed(self):\n",
    "        print(\"150km/hr\")\n",
    "c=car()\n",
    "c.speed()\n",
    "c.disp()"
   ]
  },
  {
   "cell_type": "markdown",
   "metadata": {},
   "source": [
    "# METHOD OVERLOADING"
   ]
  },
  {
   "cell_type": "code",
   "execution_count": 39,
   "metadata": {},
   "outputs": [
    {
     "data": {
      "text/plain": [
       "300"
      ]
     },
     "execution_count": 39,
     "metadata": {},
     "output_type": "execute_result"
    }
   ],
   "source": [
    "class Book:\n",
    "    def __init__(self,p):\n",
    "        self.p=p\n",
    "    def __add__(self,other):\n",
    "        return self.p+other.p\n",
    "b1=Book(100)\n",
    "b2=Book(200)\n",
    "b1+b2"
   ]
  },
  {
   "cell_type": "markdown",
   "metadata": {},
   "source": [
    "# OPERATOR OVERLOADING"
   ]
  },
  {
   "cell_type": "code",
   "execution_count": 5,
   "metadata": {},
   "outputs": [
    {
     "name": "stdout",
     "output_type": "stream",
     "text": [
      "500\n"
     ]
    }
   ],
   "source": [
    "class Book:\n",
    "    def __init__(self,p):\n",
    "        self.p=p\n",
    "    def __add__(self,other):\n",
    "        return Book(self.p+other.p)\n",
    "b3=Book(200)\n",
    "b1=Book(100)\n",
    "b2=Book(200)\n",
    "t=b1+b2+b3\n",
    "print(t.p)"
   ]
  },
  {
   "cell_type": "code",
   "execution_count": 8,
   "metadata": {},
   "outputs": [
    {
     "data": {
      "text/plain": [
       "False"
      ]
     },
     "execution_count": 8,
     "metadata": {},
     "output_type": "execute_result"
    }
   ],
   "source": [
    "class Book:\n",
    "    def __init__(self,p):\n",
    "        self.p=p\n",
    "    def __ge__(self,other):\n",
    "        return self.p>other.p\n",
    "b1=Book(100)\n",
    "b2=Book(200)\n",
    "b1>=b2"
   ]
  },
  {
   "cell_type": "code",
   "execution_count": 16,
   "metadata": {},
   "outputs": [
    {
     "data": {
      "text/plain": [
       "True"
      ]
     },
     "execution_count": 16,
     "metadata": {},
     "output_type": "execute_result"
    }
   ],
   "source": [
    "class Book:\n",
    "    def __init__(self,p):\n",
    "        self.p=p\n",
    "    def __eq__(self,other):\n",
    "        return self.p==other.p\n",
    "b1=Book(100)\n",
    "b2=Book(100)\n",
    "b1==b2"
   ]
  },
  {
   "cell_type": "markdown",
   "metadata": {},
   "source": [
    "# ABSTRACTION"
   ]
  },
  {
   "cell_type": "markdown",
   "metadata": {},
   "source": [
    "ABSTRACTION MEANS DATA HIDING."
   ]
  },
  {
   "cell_type": "code",
   "execution_count": 20,
   "metadata": {},
   "outputs": [
    {
     "name": "stdout",
     "output_type": "stream",
     "text": [
      "It Is Circle\n"
     ]
    }
   ],
   "source": [
    "from abc import ABC,abstractmethod\n",
    "class Shape(ABC):\n",
    "    def __init__(self,shape_name):\n",
    "        self.shape_name=shape_name\n",
    "        \n",
    "    @abstractmethod\n",
    "    def draw(self):\n",
    "        pass\n",
    "    \n",
    "class Circle(Shape):\n",
    "    def __init__(self):\n",
    "        super().__init__(\"Circle\")\n",
    "    def draw(self):\n",
    "        print(\"It Is Circle\")\n",
    "        \n",
    "c = Circle()\n",
    "c.draw()\n",
    "\n",
    "# s=Shape(\"xyz\")\n",
    "# s.draw()  I Have Not Create Abstract Class Object"
   ]
  },
  {
   "cell_type": "code",
   "execution_count": 21,
   "metadata": {},
   "outputs": [
    {
     "name": "stdout",
     "output_type": "stream",
     "text": [
      "Enter User Id:70\n",
      "Enter User Name:Neel patel\n",
      "Enter User Salary:85000\n",
      "Employee Details: \n",
      "User Id:  70\n",
      "User Name:  Neel patel\n",
      "User Salary:  85000\n",
      "Dearness Allowance(DA):  29749.999999999996\n",
      "House Rent Allowance(HRA):  14450.000000000002\n",
      "Provident Fund(PF):  10200.0\n",
      "Net Salary:  119000.0\n"
     ]
    }
   ],
   "source": [
    "# Python Program To Find The Net Salary Of Employee Using Inheritance\n",
    "# Code Practice\n",
    "\n",
    "from abc import ABC,abstractmethod\n",
    "\n",
    "class Employee(ABC):\n",
    "    \n",
    "    def getEmployee(self):\n",
    "        self.id=input(\"Enter User Id:\")\n",
    "        self.nm=input(\"Enter User Name:\")\n",
    "        self.sal=int(input(\"Enter User Salary:\"))\n",
    "    \n",
    "    def printEmployeeDetails(self):\n",
    "        print(\"User Id: \",self.id)\n",
    "        print(\"User Name: \",self.nm)\n",
    "        print(\"User Salary: \",self.sal)\n",
    "        \n",
    "    def getSalary(self):\n",
    "        return self.sal\n",
    "    \n",
    "    @abstractmethod\n",
    "    def emp_id(self):\n",
    "        pass\n",
    "        \n",
    "        \n",
    "class Perks(Employee):\n",
    "    \n",
    "    \n",
    "    def calcPerks(self):\n",
    "        self.getEmployee()\n",
    "        x=self.getSalary()\n",
    "        self.da=x*0.35\n",
    "        self.hra=x*0.17\n",
    "        self.pf=x*0.12\n",
    "        \n",
    "        \n",
    "    def putPerks(self):\n",
    "        print(\"Dearness Allowance(DA): \",self.da)\n",
    "        print(\"House Rent Allowance(HRA): \",self.hra)\n",
    "        print(\"Provident Fund(PF): \",self.pf)\n",
    "        \n",
    "    def totalPerks(self):\n",
    "        return self.da+self.hra-self.pf\n",
    "    def emp_id(self):\n",
    "        print(\"hi\")\n",
    "    \n",
    "    \n",
    "    \n",
    "class NetSalary(Perks):\n",
    "       \n",
    "    def getTotal(self):\n",
    "        self.calcPerks()\n",
    "        self.ns=self.getSalary()+self.totalPerks()\n",
    "    \n",
    "    def showTotal(self):\n",
    "        print(\"Employee Details: \")\n",
    "        super().printEmployeeDetails()\n",
    "        \n",
    "        super().putPerks()\n",
    "        \n",
    "        print(\"Net Salary: \",self.ns)\n",
    "        \n",
    "e=NetSalary()\n",
    "e.getTotal()\n",
    "e.showTotal()"
   ]
  },
  {
   "cell_type": "code",
   "execution_count": null,
   "metadata": {},
   "outputs": [],
   "source": []
  }
 ],
 "metadata": {
  "kernelspec": {
   "display_name": "Python 3",
   "language": "python",
   "name": "python3"
  },
  "language_info": {
   "codemirror_mode": {
    "name": "ipython",
    "version": 3
   },
   "file_extension": ".py",
   "mimetype": "text/x-python",
   "name": "python",
   "nbconvert_exporter": "python",
   "pygments_lexer": "ipython3",
   "version": "3.8.5"
  }
 },
 "nbformat": 4,
 "nbformat_minor": 4
}
